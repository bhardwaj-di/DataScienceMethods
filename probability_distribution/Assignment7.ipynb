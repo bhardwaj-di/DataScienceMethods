{
 "cells": [
  {
   "cell_type": "markdown",
   "id": "e923bf86",
   "metadata": {},
   "source": [
    "#### Q - Find a simple one-humped dataset and model it by matching one of the pdfs we learned about today. Find the most likely parameters of your pdf using MOM. Use the model to do a prediction."
   ]
  },
  {
   "cell_type": "code",
   "execution_count": 7,
   "id": "49308268",
   "metadata": {},
   "outputs": [],
   "source": [
    "import pandas as pd\n",
    "import matplotlib.pyplot as plt"
   ]
  },
  {
   "cell_type": "code",
   "execution_count": 2,
   "id": "edd00bae",
   "metadata": {},
   "outputs": [],
   "source": [
    "# reading the csv\n",
    "heart_df = pd.read_csv(r\"D:\\DSMT Assignments\\Assignment7_DivyanshuBhardwaj\\heart.csv\")"
   ]
  },
  {
   "cell_type": "code",
   "execution_count": 25,
   "id": "0cc863be",
   "metadata": {},
   "outputs": [
    {
     "name": "stdout",
     "output_type": "stream",
     "text": [
      "<class 'pandas.core.frame.DataFrame'>\n",
      "RangeIndex: 303 entries, 0 to 302\n",
      "Data columns (total 14 columns):\n",
      " #   Column    Non-Null Count  Dtype  \n",
      "---  ------    --------------  -----  \n",
      " 0   age       303 non-null    int64  \n",
      " 1   sex       303 non-null    int64  \n",
      " 2   cp        303 non-null    int64  \n",
      " 3   trestbps  303 non-null    int64  \n",
      " 4   chol      303 non-null    int64  \n",
      " 5   fbs       303 non-null    int64  \n",
      " 6   restecg   303 non-null    int64  \n",
      " 7   thalach   303 non-null    int64  \n",
      " 8   exang     303 non-null    int64  \n",
      " 9   oldpeak   303 non-null    float64\n",
      " 10  slope     303 non-null    int64  \n",
      " 11  ca        303 non-null    int64  \n",
      " 12  thal      303 non-null    int64  \n",
      " 13  target    303 non-null    int64  \n",
      "dtypes: float64(1), int64(13)\n",
      "memory usage: 33.3 KB\n"
     ]
    }
   ],
   "source": [
    "#  looking the dataset and taking a single column for prediction\n",
    "heart_df.info()\n",
    "heart_df.drop(['age','sex','cp','trestbps', 'fbs', 'restecg', 'thalach', 'exang', 'oldpeak' , 'slope', 'ca', 'thal','target'],axis =1,inplace = True)"
   ]
  },
  {
   "cell_type": "code",
   "execution_count": 26,
   "id": "b0de6333",
   "metadata": {},
   "outputs": [
    {
     "data": {
      "text/html": [
       "<div>\n",
       "<style scoped>\n",
       "    .dataframe tbody tr th:only-of-type {\n",
       "        vertical-align: middle;\n",
       "    }\n",
       "\n",
       "    .dataframe tbody tr th {\n",
       "        vertical-align: top;\n",
       "    }\n",
       "\n",
       "    .dataframe thead th {\n",
       "        text-align: right;\n",
       "    }\n",
       "</style>\n",
       "<table border=\"1\" class=\"dataframe\">\n",
       "  <thead>\n",
       "    <tr style=\"text-align: right;\">\n",
       "      <th></th>\n",
       "      <th>chol</th>\n",
       "    </tr>\n",
       "  </thead>\n",
       "  <tbody>\n",
       "    <tr>\n",
       "      <th>0</th>\n",
       "      <td>204</td>\n",
       "    </tr>\n",
       "    <tr>\n",
       "      <th>1</th>\n",
       "      <td>182</td>\n",
       "    </tr>\n",
       "    <tr>\n",
       "      <th>2</th>\n",
       "      <td>210</td>\n",
       "    </tr>\n",
       "    <tr>\n",
       "      <th>3</th>\n",
       "      <td>183</td>\n",
       "    </tr>\n",
       "    <tr>\n",
       "      <th>4</th>\n",
       "      <td>192</td>\n",
       "    </tr>\n",
       "    <tr>\n",
       "      <th>...</th>\n",
       "      <td>...</td>\n",
       "    </tr>\n",
       "    <tr>\n",
       "      <th>298</th>\n",
       "      <td>265</td>\n",
       "    </tr>\n",
       "    <tr>\n",
       "      <th>299</th>\n",
       "      <td>149</td>\n",
       "    </tr>\n",
       "    <tr>\n",
       "      <th>300</th>\n",
       "      <td>269</td>\n",
       "    </tr>\n",
       "    <tr>\n",
       "      <th>301</th>\n",
       "      <td>197</td>\n",
       "    </tr>\n",
       "    <tr>\n",
       "      <th>302</th>\n",
       "      <td>304</td>\n",
       "    </tr>\n",
       "  </tbody>\n",
       "</table>\n",
       "<p>303 rows × 1 columns</p>\n",
       "</div>"
      ],
      "text/plain": [
       "     chol\n",
       "0     204\n",
       "1     182\n",
       "2     210\n",
       "3     183\n",
       "4     192\n",
       "..    ...\n",
       "298   265\n",
       "299   149\n",
       "300   269\n",
       "301   197\n",
       "302   304\n",
       "\n",
       "[303 rows x 1 columns]"
      ]
     },
     "execution_count": 26,
     "metadata": {},
     "output_type": "execute_result"
    }
   ],
   "source": [
    "# Took chol column from the dataset\n",
    "heart_df"
   ]
  },
  {
   "cell_type": "code",
   "execution_count": 35,
   "id": "73d047c5",
   "metadata": {},
   "outputs": [
    {
     "data": {
      "image/png": "[encoded data removed]",
      "text/plain": [
       "<Figure size 432x288 with 1 Axes>"
      ]
     },
     "metadata": {
      "needs_background": "light"
     },
     "output_type": "display_data"
    }
   ],
   "source": [
    "# Plotted the chol column\n",
    "\n",
    "_ = heart_df.hist(sharex=True, sharey=True, grid=True)\n",
    "plt.tight_layout()"
   ]
  },
  {
   "cell_type": "markdown",
   "id": "8175a40c",
   "metadata": {},
   "source": [
    "#### Graph looks similar to that of normal distribution, so calculating the mean ,standard deviation and variation for the chol column"
   ]
  },
  {
   "cell_type": "code",
   "execution_count": 13,
   "id": "c63e61b4",
   "metadata": {},
   "outputs": [
    {
     "data": {
      "text/plain": [
       "246.26402640264027"
      ]
     },
     "execution_count": 13,
     "metadata": {},
     "output_type": "execute_result"
    }
   ],
   "source": [
    "mean_chol = heart_df.chol.mean()\n",
    "mean_chol"
   ]
  },
  {
   "cell_type": "code",
   "execution_count": 14,
   "id": "d36397f0",
   "metadata": {},
   "outputs": [
    {
     "data": {
      "text/plain": [
       "51.83075098793004"
      ]
     },
     "execution_count": 14,
     "metadata": {},
     "output_type": "execute_result"
    }
   ],
   "source": [
    "std_chol = heart_df.chol.std()\n",
    "std_chol"
   ]
  },
  {
   "cell_type": "code",
   "execution_count": 19,
   "id": "500edbda",
   "metadata": {},
   "outputs": [
    {
     "data": {
      "text/plain": [
       "(126, 564)"
      ]
     },
     "execution_count": 19,
     "metadata": {},
     "output_type": "execute_result"
    }
   ],
   "source": [
    "min_chol = heart_df.chol.min()\n",
    "max_chol = heart_df.chol.max()\n",
    "min_chol,max_chol\n",
    "# max_chol"
   ]
  },
  {
   "cell_type": "code",
   "execution_count": 28,
   "id": "6d49a582",
   "metadata": {},
   "outputs": [
    {
     "data": {
      "text/plain": [
       "2686.4267479728105"
      ]
     },
     "execution_count": 28,
     "metadata": {},
     "output_type": "execute_result"
    }
   ],
   "source": [
    "var_chol = heart_df.chol.var()\n",
    "var_chol"
   ]
  },
  {
   "cell_type": "code",
   "execution_count": 34,
   "id": "269f2c24",
   "metadata": {},
   "outputs": [
    {
     "data": {
      "text/plain": [
       "[<matplotlib.lines.Line2D at 0x27872ed95e0>]"
      ]
     },
     "execution_count": 34,
     "metadata": {},
     "output_type": "execute_result"
    },
    {
     "data": {
      "image/png": "[encoded data removed]",
      "text/plain": [
       "<Figure size 432x288 with 1 Axes>"
      ]
     },
     "metadata": {
      "needs_background": "light"
     },
     "output_type": "display_data"
    }
   ],
   "source": [
    "import numpy as np\n",
    "from scipy.stats.distributions import gamma, norm\n",
    "heart_df.chol.hist(density=True, bins=20)\n",
    "plt.plot(np.arange(0, max_chol), norm.pdf(np.arange(0, max_chol),mean_chol,std_chol))"
   ]
  },
  {
   "cell_type": "markdown",
   "id": "98874969",
   "metadata": {},
   "source": [
    "#### The normal distribution also known as gaussian distribution can be calculated by the formula\n",
    "<div style=\"font-size: 110%;\">  \n",
    "$$f(x) = \\frac{1}{\\sqrt{2\\pi\\sigma^2}}\\exp\\left[-\\frac{(x-\\mu)^2}{2\\sigma^2}\\right]$$\n",
    "</div>\n",
    "which basically shows how the the distribution depends upon the mean and the standard deviation"
   ]
  },
  {
   "cell_type": "code",
   "execution_count": 38,
   "id": "b3d4cec7",
   "metadata": {},
   "outputs": [
    {
     "data": {
      "text/plain": [
       "0.0051679055976300015"
      ]
     },
     "execution_count": 38,
     "metadata": {},
     "output_type": "execute_result"
    }
   ],
   "source": [
    "from scipy import stats\n",
    "stats.norm(mean_chol,std_chol).pdf(200)"
   ]
  },
  {
   "cell_type": "code",
   "execution_count": 39,
   "id": "fb4f5304",
   "metadata": {},
   "outputs": [
    {
     "name": "stderr",
     "output_type": "stream",
     "text": [
      "'ls' is not recognized as an internal or external command,\n",
      "operable program or batch file.\n"
     ]
    }
   ],
   "source": []
  },
  {
   "cell_type": "code",
   "execution_count": null,
   "id": "ac7eae67",
   "metadata": {},
   "outputs": [],
   "source": []
  }
 ],
 "metadata": {
  "kernelspec": {
   "display_name": "Python 3 (ipykernel)",
   "language": "python",
   "name": "python3"
  },
  "language_info": {
   "codemirror_mode": {
    "name": "ipython",
    "version": 3
   },
   "file_extension": ".py",
   "mimetype": "text/x-python",
   "name": "python",
   "nbconvert_exporter": "python",
   "pygments_lexer": "ipython3",
   "version": "3.9.7"
  }
 },
 "nbformat": 4,
 "nbformat_minor": 5
}

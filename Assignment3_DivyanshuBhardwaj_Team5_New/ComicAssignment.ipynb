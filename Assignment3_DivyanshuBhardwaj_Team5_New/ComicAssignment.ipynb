{
 "cells": [
  {
   "cell_type": "markdown",
   "id": "6af9e018",
   "metadata": {},
   "source": [
    "# Assignment 3 - Comic Book using python\n",
    "\n",
    "\n",
    "We'll be making customize function where we will be adding the text to images first, then after adding text to images border will be added.\n",
    "After getting the bordered images we'll be horizontally stacking up the images in random number per line each.\n",
    "Once Images are horizontally stacked, we'll stack them vertically.\n",
    "And finally we'll convert them to pdf"
   ]
  },
  {
   "cell_type": "code",
   "execution_count": null,
   "id": "348b9607",
   "metadata": {},
   "outputs": [],
   "source": [
    "# To add text into image we have created a function naming addText which will add text to the image\n",
    "\n",
    "from PIL import Image as pili, ImageDraw as pild, ImageFont as pilf\n",
    "\n",
    "def addText(directory , img ,caption ,filename):\n",
    "    \n",
    "    \n",
    "    TINT_COLOR = (0, 0, 0)  # Black\n",
    "    TRANSPARENCY = .25  # Degree of transparency, 0-100%\n",
    "    OPACITY = int(255 * TRANSPARENCY)\n",
    "\n",
    "    from PIL import Image, ImageFont, ImageDraw\n",
    "\n",
    "    img = pili.open(img).convert('RGBA')\n",
    "\n",
    "    overlay = pili.new('RGBA', img.size, TINT_COLOR+(0,))\n",
    "    draw = pild.Draw(overlay)\n",
    "    font = pilf.truetype(\"arial.ttf\", 40)\n",
    "    #x, y = (img.width - 510, img.height-100)\n",
    "    text = caption\n",
    "    w, h = font.getsize(text)\n",
    "    num_lines = len(text.split('\\n'))\n",
    "    print(num_lines, w, h)\n",
    "    x, y = 40, img.height - ((num_lines-0.1*num_lines)*h + 50)\n",
    "    #draw.rectangle((x, y, x + w, y + h), fill='black')\n",
    "    #draw.rectangle((x, y, x + w, y + 4*h), fill=TINT_COLOR+(OPACITY,))\n",
    "    draw.rectangle((x, y, x + img.width - 200, y + (num_lines-0.1*num_lines)*h), fill=TINT_COLOR+(OPACITY,))\n",
    "    draw.text((x, y), text, fill=(209, 239, 8), font=font)\n",
    "\n",
    "    # Alpha composite these two images together to obtain the desired result.\n",
    "    img = pili.alpha_composite(img, overlay)\n",
    "    img = img.convert(\"RGB\") # Remove alpha for saving in jpg format.\n",
    "\n",
    "    img.save(directory+filename)"
   ]
  },
  {
   "cell_type": "code",
   "execution_count": null,
   "id": "d2916fe1",
   "metadata": {},
   "outputs": [],
   "source": [
    "# To read the \\n from dataframe we manipulated using replace function\n",
    "\n",
    "import pandas as pd\n",
    "\n",
    "# Reading the data from \"English\" column\n",
    "df = pd.read_excel(\"C:/Users/divya/Documents/Cartoons/dialogue.xlsx\")\n",
    "df['English']=df['English'].replace(r'\\\\n', r'\\n', regex=True)\n",
    "\n",
    "# Reading the data from \"Hindi\" column\n",
    "df['Hindi']=df['Hindi'].replace(r'\\\\n', r'\\n', regex=True)\n",
    "df['Hindi']"
   ]
  },
  {
   "cell_type": "code",
   "execution_count": null,
   "id": "43101152",
   "metadata": {},
   "outputs": [],
   "source": [
    "# To get the image name in ascending order so that we can zip the dialogue with the image  we used custom function\n",
    "\n",
    "import re\n",
    "\n",
    "def tryint(s):\n",
    "    try:\n",
    "        return int(s)\n",
    "    except:\n",
    "        return s\n",
    "\n",
    "def alphanum_key(s):\n",
    "    \"\"\" Turn a string into a list of string and number chunks.\n",
    "        \"z23a\" -> [\"z\", 23, \"a\"]\n",
    "    \"\"\"\n",
    "    return [ tryint(c) for c in re.split('([0-9]+)', s) ]\n",
    "\n",
    "def sort_nicely(l):\n",
    "    \"\"\" Sort the given list in the way that humans expect.\n",
    "    \"\"\"\n",
    "    l.sort(key=alphanum_key)\n",
    "    return l"
   ]
  },
  {
   "cell_type": "code",
   "execution_count": null,
   "id": "a5119b36",
   "metadata": {},
   "outputs": [],
   "source": [
    "# Get the PNG files present in that location\n",
    "\n",
    "import os\n",
    "\n",
    "d_directory = r\"D:/subtitles/\"\n",
    "\n",
    "all_files=[]\n",
    "\n",
    "for filename in os.listdir(d_directory):\n",
    "    if filename.endswith(\".PNG\") or filename.endswith(\".png\"):\n",
    "#         print(filename)\n",
    "        all_files.append(filename)\n",
    "\n",
    "    else:\n",
    "        print(\"Caption not added \"+filename)\n",
    "\n",
    "# sorting the filename so that it is collected in ascending order\n",
    "all_files=sort_nicely(all_files)\n",
    "all_files"
   ]
  },
  {
   "cell_type": "code",
   "execution_count": null,
   "id": "495ea58e",
   "metadata": {},
   "outputs": [],
   "source": [
    "# hindiText Function is called up whenever Hindi text needs to be added in image\n",
    "\n",
    "def hindiText(directory, image,caption , filename):\n",
    "    \n",
    "    from PIL import Image as pili, ImageDraw as pild, ImageFont as pilf \n",
    "    from PIL import Image, ImageDraw, ImageFont, ImageFilter\n",
    "    #configuration\n",
    "    img = pili.open(image)\n",
    "    \n",
    "    font_size=36\n",
    "    width=500\n",
    "    height=100\n",
    "    back_ground_color=(255,255,255)\n",
    "    font_size=36\n",
    "    font_color=(209, 239, 8)\n",
    "    unicode_text = caption\n",
    "\n",
    "#     im  =  Image.new ( \"RGB\", (width,height), back_ground_color )\n",
    "    draw  =  ImageDraw.Draw ( img)\n",
    "    #unicode_font = ImageFont.truetype(\"DENGL.ttf\", font_size)\n",
    "    unicode_font = ImageFont.truetype(\"c:/windows/fonts/nirmalas.ttf\", font_size)\n",
    "    draw.text ( (10,650), unicode_text, font=unicode_font, fill=font_color )\n",
    "\n",
    "    img.save(directory+filename)"
   ]
  },
  {
   "cell_type": "code",
   "execution_count": null,
   "id": "886252a5",
   "metadata": {},
   "outputs": [],
   "source": [
    "# adding the Hindi text to images\n",
    "\n",
    "d_directory = r\"D:/subtitles/\"\n",
    "\n",
    "for i,caption in zip(all_files,df['Hindi']):  \n",
    "    hindiText(\"D:/subtitlesHindi/\",os.path.join(d_directory, i),str(caption),i)\n",
    "    print(i,caption)"
   ]
  },
  {
   "cell_type": "code",
   "execution_count": null,
   "id": "5e75f972",
   "metadata": {},
   "outputs": [],
   "source": [
    "# adding the English text to images\n",
    "\n",
    "for i,caption in zip(all_files,df['English']):  \n",
    "    addText(\"D:/subtitles/\",os.path.join(d_directory, i),str(caption),i)\n",
    "    print(i,caption)"
   ]
  },
  {
   "cell_type": "code",
   "execution_count": null,
   "id": "a4668562",
   "metadata": {},
   "outputs": [],
   "source": [
    "# border added to the images\n",
    "from PIL import Image as pili, ImageOps as piliops\n",
    "\n",
    "for filename in (os.listdir(r\"D:/subtitlesHindi/\")):\n",
    "    if 'PNG' in filename:\n",
    "#         print(filename)\n",
    "        piliops.expand(pili.open(r\"D:/subtitlesHindi/\"+filename), border=(100,100),fill='black').save(r\"D:/subtitlesHindi/\"+filename)"
   ]
  },
  {
   "cell_type": "code",
   "execution_count": null,
   "id": "76d7e316",
   "metadata": {},
   "outputs": [],
   "source": [
    "# Horizontally stacking the bordered images\n",
    "\n",
    "import PIL\n",
    "from PIL import Image as pili, ImageOps as piliops\n",
    "\n",
    "def gridImage(imgList, d_directory):\n",
    "    \n",
    "    dim = imgList[0].split(\"SS\")\n",
    "    imgNumber = dim[1]\n",
    "    imgs    = [ PIL.Image.open(i) for i in imgList ]\n",
    "    # pick the image which is the smallest, and resize the others to match it (can be arbitrary image shape here)\n",
    "    \n",
    "    min_shape = sorted( [(np.sum(i.size), i.size ) for i in imgs])[0][1]\n",
    "    print(\"Array size \"+np.asarray( i.resize(min_shape) ) for i in imgs)\n",
    "    imgs_comb = np.hstack( (np.asarray( i.resize(min_shape) ) for i in imgs ) )\n",
    "\n",
    "    # save that beautiful picture\n",
    "    imgs_comb = PIL.Image.fromarray(imgs_comb)\n",
    "    imgs_comb.save( d_directory+imgNumber )"
   ]
  },
  {
   "cell_type": "code",
   "execution_count": null,
   "id": "2cc5ea17",
   "metadata": {},
   "outputs": [],
   "source": [
    "import numpy as np\n",
    "import PIL\n",
    "from IPython.display import Image\n",
    "from IPython.display import display\n",
    "from PIL import Image as pili, ImageOps as piliops\n",
    "\n",
    "# To get the random number of images per line (3 to 5) \n",
    "\n",
    "d_directory = \"D:/subtitlesHindi/\"\n",
    "list_im = [ (os.path.join(d_directory, file)) for file in all_files if \"PNG\" in \"D:/subtitlesHindi/\"+file ]\n",
    "while 0 < len(list_im):\n",
    "    lines = 0\n",
    "#     print(\"new page!\")\n",
    "    num_cols = old_num_cols = 0\n",
    "    while lines < 6 and 0 < len(list_im):\n",
    "        lines += 1\n",
    "        while num_cols == old_num_cols:\n",
    "            num_cols = np.random.randint(3, 6)\n",
    "        old_num_cols = num_cols\n",
    "        window = list_im[:num_cols]\n",
    "#         print(window)\n",
    "        gridImage(window, d_directory)\n",
    "#         print((print (i) for i in window))\n",
    "        list_im = list_im[num_cols:]\n"
   ]
  },
  {
   "cell_type": "code",
   "execution_count": null,
   "id": "ebc107cc",
   "metadata": {},
   "outputs": [],
   "source": [
    "# Vertically stacking the images \n",
    "\n",
    "def verticalImage(imgList, directory):\n",
    "    \n",
    "    imgNumber = imgList[0]\n",
    "    imgs    = [ PIL.Image.open(directory+i) for i in imgList ]\n",
    "\n",
    "    # pick the image which is the smallest, and resize the others to match it (can be arbitrary image shape here)\n",
    "    min_shape = sorted( [(np.sum(i.size), i.size ) for i in imgs])[0][1]\n",
    "    imgs_comb = np.vstack( (np.asarray( i.resize(min_shape) ) for i in imgs ) )\n",
    "\n",
    "    # save that beautiful picture\n",
    "    imgs_comb = PIL.Image.fromarray( imgs_comb)\n",
    "    imgs_comb.save( directory+\"dims\"+imgNumber )"
   ]
  },
  {
   "cell_type": "code",
   "execution_count": null,
   "id": "d08c7d7a",
   "metadata": {},
   "outputs": [],
   "source": [
    "# Sorting the horizontal stacked images in ascending order\n",
    "\n",
    "horimages = []\n",
    "for i in os.listdir(r\"D:\\vstackphotos\"):\n",
    "    horimages.append(i)\n",
    "horimages = sort_nicely(horimages)\n"
   ]
  },
  {
   "cell_type": "code",
   "execution_count": null,
   "id": "9ba7ff0a",
   "metadata": {},
   "outputs": [],
   "source": [
    "# Horizontally stacked images now ready to be stacked vertically \n",
    "\n",
    "list1 = horimages[:5]\n",
    "list2 = horimages[5:10]\n",
    "list3 = horimages[10:15]"
   ]
  },
  {
   "cell_type": "code",
   "execution_count": null,
   "id": "49a4d2bb",
   "metadata": {},
   "outputs": [],
   "source": [
    "# Vertically Stacking the Horizontal images\n",
    "\n",
    "directory = r\"D:/vstackphotos/\"\n",
    "\n",
    "verticalImage(list3, directory)"
   ]
  },
  {
   "cell_type": "code",
   "execution_count": null,
   "id": "e021b886",
   "metadata": {
    "scrolled": true
   },
   "outputs": [],
   "source": [
    "# Converting images to pdf\n",
    "\n",
    "from PIL import Image\n",
    "\n",
    "image1 = Image.open(r'D:/vstackphotos/dims/dims1.PNG')\n",
    "image2 = Image.open(r'D:/vstackphotos/dims/dims22.PNG')\n",
    "image3 = Image.open(r'D:/vstackphotos/dims/dims43.PNG')\n",
    "\n",
    "im1 = image1.convert('RGB')\n",
    "im2 = image2.convert('RGB')\n",
    "im3 = image3.convert('RGB')\n",
    "\n",
    "imagelist = [im2,im3]\n",
    "# for i in imagelist = ['D:/vstackphotos/dims1.PNG', \n",
    "#              'D:/vstackphotos/dims22.PNG', \n",
    "#              'D:/vstackphotos/dims43.PNG']\n",
    "im1.save(r'D:/vstackphotos/dims/AvengersHindi.pdf',save_all=True, append_images=imagelist)"
   ]
  }
 ],
 "metadata": {
  "kernelspec": {
   "display_name": "Python 3 (ipykernel)",
   "language": "python",
   "name": "python3"
  },
  "language_info": {
   "codemirror_mode": {
    "name": "ipython",
    "version": 3
   },
   "file_extension": ".py",
   "mimetype": "text/x-python",
   "name": "python",
   "nbconvert_exporter": "python",
   "pygments_lexer": "ipython3",
   "version": "3.9.7"
  }
 },
 "nbformat": 4,
 "nbformat_minor": 5
}

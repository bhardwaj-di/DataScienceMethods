{
 "cells": [
  {
   "cell_type": "markdown",
   "id": "aab1fd63",
   "metadata": {},
   "source": [
    "# Stock Prediction using Random model"
   ]
  },
  {
   "cell_type": "code",
   "execution_count": 61,
   "id": "09c31670",
   "metadata": {},
   "outputs": [],
   "source": [
    "from sklearn.model_selection import ParameterGrid\n",
    "from sklearn import metrics\n",
    "import numpy as np\n",
    "import pandas as pd\n",
    "import matplotlib.pyplot as plt\n",
    "from matplotlib import pyplot\n",
    "import pandas_datareader as web\n",
    "from sklearn.model_selection import train_test_split\n",
    "from sklearn.ensemble import RandomForestRegressor\n",
    "from sklearn import metrics\n",
    "import sklearn, math"
   ]
  },
  {
   "cell_type": "markdown",
   "id": "8dacecc2",
   "metadata": {},
   "source": [
    "# Stock Prediction for Nokia"
   ]
  },
  {
   "cell_type": "code",
   "execution_count": 95,
   "id": "dd6e7066",
   "metadata": {},
   "outputs": [],
   "source": [
    "# Reading the \"Nokia\" stock data from webreader\n",
    "\n",
    "data = web.DataReader('NOK', 'yahoo', start=\"2000-01-01\", end=\"2021-10-13\")\n",
    "data.to_csv(\"D:/DSMT Assignments/Assignment4/Nokia.xlsx\")"
   ]
  },
  {
   "cell_type": "code",
   "execution_count": 93,
   "id": "27206bfb",
   "metadata": {},
   "outputs": [
    {
     "data": {
      "text/plain": [
       "Text(0.5, 1.0, 'Nokia Stock price')"
      ]
     },
     "execution_count": 93,
     "metadata": {},
     "output_type": "execute_result"
    },
    {
     "data": {
      "image/png": "[encoded data removed]",
      "text/plain": [
       "<Figure size 432x288 with 1 Axes>"
      ]
     },
     "metadata": {
      "needs_background": "light"
     },
     "output_type": "display_data"
    }
   ],
   "source": [
    "# Plotting the data and reading the performance as how it has performed in last years\n",
    "plt.plot(data['Adj Close'])\n",
    "plt.ylabel(\"Adjusted Closed Price\")\n",
    "plt.title(\"Nokia Stock price\")"
   ]
  },
  {
   "cell_type": "code",
   "execution_count": 43,
   "id": "2c7d3963",
   "metadata": {
    "collapsed": true
   },
   "outputs": [
    {
     "data": {
      "text/html": [
       "<div>\n",
       "<style scoped>\n",
       "    .dataframe tbody tr th:only-of-type {\n",
       "        vertical-align: middle;\n",
       "    }\n",
       "\n",
       "    .dataframe tbody tr th {\n",
       "        vertical-align: top;\n",
       "    }\n",
       "\n",
       "    .dataframe thead th {\n",
       "        text-align: right;\n",
       "    }\n",
       "</style>\n",
       "<table border=\"1\" class=\"dataframe\">\n",
       "  <thead>\n",
       "    <tr style=\"text-align: right;\">\n",
       "      <th></th>\n",
       "      <th>Date</th>\n",
       "      <th>High</th>\n",
       "      <th>Low</th>\n",
       "      <th>Open</th>\n",
       "      <th>Close</th>\n",
       "      <th>Volume</th>\n",
       "      <th>Adj Close</th>\n",
       "    </tr>\n",
       "  </thead>\n",
       "  <tbody>\n",
       "    <tr>\n",
       "      <th>0</th>\n",
       "      <td>2000-01-03</td>\n",
       "      <td>48.250000</td>\n",
       "      <td>45.5000</td>\n",
       "      <td>48.125000</td>\n",
       "      <td>46.75</td>\n",
       "      <td>20275200.0</td>\n",
       "      <td>25.261274</td>\n",
       "    </tr>\n",
       "    <tr>\n",
       "      <th>1</th>\n",
       "      <td>2000-01-04</td>\n",
       "      <td>45.140625</td>\n",
       "      <td>43.1875</td>\n",
       "      <td>44.250000</td>\n",
       "      <td>43.25</td>\n",
       "      <td>19410000.0</td>\n",
       "      <td>23.370052</td>\n",
       "    </tr>\n",
       "    <tr>\n",
       "      <th>2</th>\n",
       "      <td>2000-01-05</td>\n",
       "      <td>43.625000</td>\n",
       "      <td>40.1875</td>\n",
       "      <td>42.046875</td>\n",
       "      <td>42.50</td>\n",
       "      <td>25034000.0</td>\n",
       "      <td>22.964794</td>\n",
       "    </tr>\n",
       "    <tr>\n",
       "      <th>3</th>\n",
       "      <td>2000-01-06</td>\n",
       "      <td>42.750000</td>\n",
       "      <td>38.2500</td>\n",
       "      <td>42.000000</td>\n",
       "      <td>38.25</td>\n",
       "      <td>19321600.0</td>\n",
       "      <td>20.668314</td>\n",
       "    </tr>\n",
       "    <tr>\n",
       "      <th>4</th>\n",
       "      <td>2000-01-07</td>\n",
       "      <td>43.000000</td>\n",
       "      <td>40.4375</td>\n",
       "      <td>40.437500</td>\n",
       "      <td>42.75</td>\n",
       "      <td>18058800.0</td>\n",
       "      <td>23.099880</td>\n",
       "    </tr>\n",
       "    <tr>\n",
       "      <th>...</th>\n",
       "      <td>...</td>\n",
       "      <td>...</td>\n",
       "      <td>...</td>\n",
       "      <td>...</td>\n",
       "      <td>...</td>\n",
       "      <td>...</td>\n",
       "      <td>...</td>\n",
       "    </tr>\n",
       "    <tr>\n",
       "      <th>5476</th>\n",
       "      <td>2021-10-07</td>\n",
       "      <td>5.800000</td>\n",
       "      <td>5.7100</td>\n",
       "      <td>5.720000</td>\n",
       "      <td>5.77</td>\n",
       "      <td>16933400.0</td>\n",
       "      <td>5.770000</td>\n",
       "    </tr>\n",
       "    <tr>\n",
       "      <th>5477</th>\n",
       "      <td>2021-10-08</td>\n",
       "      <td>5.880000</td>\n",
       "      <td>5.7800</td>\n",
       "      <td>5.850000</td>\n",
       "      <td>5.80</td>\n",
       "      <td>16089500.0</td>\n",
       "      <td>5.800000</td>\n",
       "    </tr>\n",
       "    <tr>\n",
       "      <th>5478</th>\n",
       "      <td>2021-10-11</td>\n",
       "      <td>5.850000</td>\n",
       "      <td>5.7600</td>\n",
       "      <td>5.780000</td>\n",
       "      <td>5.80</td>\n",
       "      <td>12405100.0</td>\n",
       "      <td>5.800000</td>\n",
       "    </tr>\n",
       "    <tr>\n",
       "      <th>5479</th>\n",
       "      <td>2021-10-12</td>\n",
       "      <td>5.850000</td>\n",
       "      <td>5.7800</td>\n",
       "      <td>5.830000</td>\n",
       "      <td>5.80</td>\n",
       "      <td>17008300.0</td>\n",
       "      <td>5.800000</td>\n",
       "    </tr>\n",
       "    <tr>\n",
       "      <th>5480</th>\n",
       "      <td>2021-10-13</td>\n",
       "      <td>5.890000</td>\n",
       "      <td>5.8200</td>\n",
       "      <td>5.850000</td>\n",
       "      <td>5.84</td>\n",
       "      <td>10745600.0</td>\n",
       "      <td>5.840000</td>\n",
       "    </tr>\n",
       "  </tbody>\n",
       "</table>\n",
       "<p>5481 rows × 7 columns</p>\n",
       "</div>"
      ],
      "text/plain": [
       "           Date       High      Low       Open  Close      Volume  Adj Close\n",
       "0    2000-01-03  48.250000  45.5000  48.125000  46.75  20275200.0  25.261274\n",
       "1    2000-01-04  45.140625  43.1875  44.250000  43.25  19410000.0  23.370052\n",
       "2    2000-01-05  43.625000  40.1875  42.046875  42.50  25034000.0  22.964794\n",
       "3    2000-01-06  42.750000  38.2500  42.000000  38.25  19321600.0  20.668314\n",
       "4    2000-01-07  43.000000  40.4375  40.437500  42.75  18058800.0  23.099880\n",
       "...         ...        ...      ...        ...    ...         ...        ...\n",
       "5476 2021-10-07   5.800000   5.7100   5.720000   5.77  16933400.0   5.770000\n",
       "5477 2021-10-08   5.880000   5.7800   5.850000   5.80  16089500.0   5.800000\n",
       "5478 2021-10-11   5.850000   5.7600   5.780000   5.80  12405100.0   5.800000\n",
       "5479 2021-10-12   5.850000   5.7800   5.830000   5.80  17008300.0   5.800000\n",
       "5480 2021-10-13   5.890000   5.8200   5.850000   5.84  10745600.0   5.840000\n",
       "\n",
       "[5481 rows x 7 columns]"
      ]
     },
     "execution_count": 43,
     "metadata": {},
     "output_type": "execute_result"
    }
   ],
   "source": [
    "# Reseting the index\n",
    "data = data.reset_index()\n",
    "data"
   ]
  },
  {
   "cell_type": "code",
   "execution_count": 44,
   "id": "7f1c7fdb",
   "metadata": {
    "collapsed": true
   },
   "outputs": [
    {
     "data": {
      "text/plain": [
       "0       25.261274\n",
       "1       23.370052\n",
       "2       22.964794\n",
       "3       20.668314\n",
       "4       23.099880\n",
       "          ...    \n",
       "5476     5.770000\n",
       "5477     5.800000\n",
       "5478     5.800000\n",
       "5479     5.800000\n",
       "5480     5.840000\n",
       "Name: Adj Close, Length: 5481, dtype: float64"
      ]
     },
     "execution_count": 44,
     "metadata": {},
     "output_type": "execute_result"
    }
   ],
   "source": [
    "# Target value considered in a vector\n",
    "y = data['Adj Close']\n",
    "y"
   ]
  },
  {
   "cell_type": "code",
   "execution_count": 45,
   "id": "366e81d6",
   "metadata": {
    "collapsed": true
   },
   "outputs": [
    {
     "data": {
      "text/html": [
       "<div>\n",
       "<style scoped>\n",
       "    .dataframe tbody tr th:only-of-type {\n",
       "        vertical-align: middle;\n",
       "    }\n",
       "\n",
       "    .dataframe tbody tr th {\n",
       "        vertical-align: top;\n",
       "    }\n",
       "\n",
       "    .dataframe thead th {\n",
       "        text-align: right;\n",
       "    }\n",
       "</style>\n",
       "<table border=\"1\" class=\"dataframe\">\n",
       "  <thead>\n",
       "    <tr style=\"text-align: right;\">\n",
       "      <th></th>\n",
       "      <th>High</th>\n",
       "      <th>Low</th>\n",
       "      <th>Open</th>\n",
       "      <th>Close</th>\n",
       "      <th>Volume</th>\n",
       "    </tr>\n",
       "  </thead>\n",
       "  <tbody>\n",
       "    <tr>\n",
       "      <th>0</th>\n",
       "      <td>48.250000</td>\n",
       "      <td>45.5000</td>\n",
       "      <td>48.125000</td>\n",
       "      <td>46.75</td>\n",
       "      <td>20275200.0</td>\n",
       "    </tr>\n",
       "    <tr>\n",
       "      <th>1</th>\n",
       "      <td>45.140625</td>\n",
       "      <td>43.1875</td>\n",
       "      <td>44.250000</td>\n",
       "      <td>43.25</td>\n",
       "      <td>19410000.0</td>\n",
       "    </tr>\n",
       "    <tr>\n",
       "      <th>2</th>\n",
       "      <td>43.625000</td>\n",
       "      <td>40.1875</td>\n",
       "      <td>42.046875</td>\n",
       "      <td>42.50</td>\n",
       "      <td>25034000.0</td>\n",
       "    </tr>\n",
       "    <tr>\n",
       "      <th>3</th>\n",
       "      <td>42.750000</td>\n",
       "      <td>38.2500</td>\n",
       "      <td>42.000000</td>\n",
       "      <td>38.25</td>\n",
       "      <td>19321600.0</td>\n",
       "    </tr>\n",
       "    <tr>\n",
       "      <th>4</th>\n",
       "      <td>43.000000</td>\n",
       "      <td>40.4375</td>\n",
       "      <td>40.437500</td>\n",
       "      <td>42.75</td>\n",
       "      <td>18058800.0</td>\n",
       "    </tr>\n",
       "    <tr>\n",
       "      <th>...</th>\n",
       "      <td>...</td>\n",
       "      <td>...</td>\n",
       "      <td>...</td>\n",
       "      <td>...</td>\n",
       "      <td>...</td>\n",
       "    </tr>\n",
       "    <tr>\n",
       "      <th>5476</th>\n",
       "      <td>5.800000</td>\n",
       "      <td>5.7100</td>\n",
       "      <td>5.720000</td>\n",
       "      <td>5.77</td>\n",
       "      <td>16933400.0</td>\n",
       "    </tr>\n",
       "    <tr>\n",
       "      <th>5477</th>\n",
       "      <td>5.880000</td>\n",
       "      <td>5.7800</td>\n",
       "      <td>5.850000</td>\n",
       "      <td>5.80</td>\n",
       "      <td>16089500.0</td>\n",
       "    </tr>\n",
       "    <tr>\n",
       "      <th>5478</th>\n",
       "      <td>5.850000</td>\n",
       "      <td>5.7600</td>\n",
       "      <td>5.780000</td>\n",
       "      <td>5.80</td>\n",
       "      <td>12405100.0</td>\n",
       "    </tr>\n",
       "    <tr>\n",
       "      <th>5479</th>\n",
       "      <td>5.850000</td>\n",
       "      <td>5.7800</td>\n",
       "      <td>5.830000</td>\n",
       "      <td>5.80</td>\n",
       "      <td>17008300.0</td>\n",
       "    </tr>\n",
       "    <tr>\n",
       "      <th>5480</th>\n",
       "      <td>5.890000</td>\n",
       "      <td>5.8200</td>\n",
       "      <td>5.850000</td>\n",
       "      <td>5.84</td>\n",
       "      <td>10745600.0</td>\n",
       "    </tr>\n",
       "  </tbody>\n",
       "</table>\n",
       "<p>5481 rows × 5 columns</p>\n",
       "</div>"
      ],
      "text/plain": [
       "           High      Low       Open  Close      Volume\n",
       "0     48.250000  45.5000  48.125000  46.75  20275200.0\n",
       "1     45.140625  43.1875  44.250000  43.25  19410000.0\n",
       "2     43.625000  40.1875  42.046875  42.50  25034000.0\n",
       "3     42.750000  38.2500  42.000000  38.25  19321600.0\n",
       "4     43.000000  40.4375  40.437500  42.75  18058800.0\n",
       "...         ...      ...        ...    ...         ...\n",
       "5476   5.800000   5.7100   5.720000   5.77  16933400.0\n",
       "5477   5.880000   5.7800   5.850000   5.80  16089500.0\n",
       "5478   5.850000   5.7600   5.780000   5.80  12405100.0\n",
       "5479   5.850000   5.7800   5.830000   5.80  17008300.0\n",
       "5480   5.890000   5.8200   5.850000   5.84  10745600.0\n",
       "\n",
       "[5481 rows x 5 columns]"
      ]
     },
     "execution_count": 45,
     "metadata": {},
     "output_type": "execute_result"
    }
   ],
   "source": [
    "# Droping the columns from the predictor variables\n",
    "X = data.drop(columns = ['Adj Close','Date'])\n",
    "X"
   ]
  },
  {
   "cell_type": "code",
   "execution_count": 46,
   "id": "2b641b6d",
   "metadata": {
    "collapsed": true
   },
   "outputs": [
    {
     "data": {
      "text/plain": [
       "(           High      Low       Open  Close      Volume\n",
       " 0     48.250000  45.5000  48.125000  46.75  20275200.0\n",
       " 1     45.140625  43.1875  44.250000  43.25  19410000.0\n",
       " 2     43.625000  40.1875  42.046875  42.50  25034000.0\n",
       " 3     42.750000  38.2500  42.000000  38.25  19321600.0\n",
       " 4     43.000000  40.4375  40.437500  42.75  18058800.0\n",
       " ...         ...      ...        ...    ...         ...\n",
       " 5376   4.930000   4.8600   4.880000   4.91  21961100.0\n",
       " 5377   5.070000   4.9500   4.990000   4.98  43302500.0\n",
       " 5378   4.970000   4.8900   4.900000   4.94  27387100.0\n",
       " 5379   5.150000   4.9400   4.950000   5.15  49555700.0\n",
       " 5380   5.160000   5.0400   5.150000   5.05  38946200.0\n",
       " \n",
       " [5381 rows x 5 columns],\n",
       " 0       25.485620\n",
       " 1       26.027868\n",
       " 2       27.925730\n",
       " 3       28.196857\n",
       " 4       30.603071\n",
       "           ...    \n",
       " 5376     5.770000\n",
       " 5377     5.800000\n",
       " 5378     5.800000\n",
       " 5379     5.800000\n",
       " 5380     5.840000\n",
       " Name: Adj Close, Length: 5381, dtype: float64)"
      ]
     },
     "execution_count": 46,
     "metadata": {},
     "output_type": "execute_result"
    }
   ],
   "source": [
    "# Conisdering for the 100 days\n",
    "X = X.iloc[0:-100]\n",
    "y = y.shift(-100).dropna()\n",
    "X,y"
   ]
  },
  {
   "cell_type": "code",
   "execution_count": 49,
   "id": "68ff7329",
   "metadata": {},
   "outputs": [],
   "source": [
    "# Splitting the data in training and test data for modeling and predicting\n",
    "X_train, X_test, y_train, y_test = train_test_split(X, y, random_state=42)"
   ]
  },
  {
   "cell_type": "code",
   "execution_count": 50,
   "id": "64bc8f52",
   "metadata": {},
   "outputs": [
    {
     "data": {
      "text/plain": [
       "RandomForestRegressor()"
      ]
     },
     "execution_count": 50,
     "metadata": {},
     "output_type": "execute_result"
    }
   ],
   "source": [
    "# Create a model \n",
    "rf_model = RandomForestRegressor()\n",
    "\n",
    "# Train the model\n",
    "rf_model.fit(X_train, y_train)"
   ]
  },
  {
   "cell_type": "code",
   "execution_count": 51,
   "id": "7f875558",
   "metadata": {},
   "outputs": [
    {
     "data": {
      "text/plain": [
       "0.8375347506338363"
      ]
     },
     "execution_count": 51,
     "metadata": {},
     "output_type": "execute_result"
    }
   ],
   "source": [
    "# Get R2 measure (indicator of accuracy 1 is perfect, 0 is bad)\n",
    "rf_model.score(X_test, y_test)"
   ]
  },
  {
   "cell_type": "code",
   "execution_count": 57,
   "id": "5204280a",
   "metadata": {},
   "outputs": [],
   "source": [
    "y_pred = rf_model.predict(X_test)\n",
    "y_pred = list(y_pred)"
   ]
  },
  {
   "cell_type": "code",
   "execution_count": 63,
   "id": "268d111d",
   "metadata": {},
   "outputs": [
    {
     "data": {
      "text/plain": [
       "2.099276397196057"
      ]
     },
     "execution_count": 63,
     "metadata": {},
     "output_type": "execute_result"
    }
   ],
   "source": [
    "# Root Mean Square Error (RMSE) is a standard way to measure the error of a model in predicting quantitative data.\n",
    "mse = sklearn.metrics.mean_squared_error(y_test, y_pred)\n",
    "\n",
    "rmse = math.sqrt(mse)\n",
    "rmse"
   ]
  },
  {
   "cell_type": "markdown",
   "id": "baac51c7",
   "metadata": {},
   "source": [
    "#### Conclusion :\n",
    "As we can see that R2 measure for the above model is coming around 0.83 , the more the value closer to 1 the better it is. But it maybe possible that model was being overfitted as in earlier test cases it was coming around 0.99 which is practically impossible.\n",
    "RMSE value is 2.099 which is good but looking at stock prediction analysis it maybe large."
   ]
  },
  {
   "cell_type": "markdown",
   "id": "4f3ad6cb",
   "metadata": {},
   "source": [
    "# Stock prediction for AAL"
   ]
  },
  {
   "cell_type": "code",
   "execution_count": 96,
   "id": "7849f37e",
   "metadata": {},
   "outputs": [],
   "source": [
    "# Reading the \"AAL\" stock data from webreader\n",
    "\n",
    "data = web.DataReader('AAL', 'yahoo', start=\"2000-01-01\", end=\"2021-10-13\")\n",
    "data.to_csv(\"D:/DSMT Assignments/Assignment4/AAL.xlsx\")"
   ]
  },
  {
   "cell_type": "code",
   "execution_count": 97,
   "id": "ff0a9bab",
   "metadata": {
    "scrolled": true
   },
   "outputs": [
    {
     "data": {
      "text/plain": [
       "Text(0.5, 1.0, 'AAL Stock price')"
      ]
     },
     "execution_count": 97,
     "metadata": {},
     "output_type": "execute_result"
    },
    {
     "data": {
      "image/png": "[encoded data removed]",
      "text/plain": [
       "<Figure size 432x288 with 1 Axes>"
      ]
     },
     "metadata": {
      "needs_background": "light"
     },
     "output_type": "display_data"
    }
   ],
   "source": [
    "# Plotting the data and reading the performance as how it has performed in last years\n",
    "plt.plot(data['Adj Close'])\n",
    "plt.ylabel(\"Adjusted Closed Price\")\n",
    "plt.title(\"AAL Stock price\")"
   ]
  },
  {
   "cell_type": "code",
   "execution_count": 98,
   "id": "00408b5b",
   "metadata": {
    "collapsed": true
   },
   "outputs": [
    {
     "data": {
      "text/html": [
       "<div>\n",
       "<style scoped>\n",
       "    .dataframe tbody tr th:only-of-type {\n",
       "        vertical-align: middle;\n",
       "    }\n",
       "\n",
       "    .dataframe tbody tr th {\n",
       "        vertical-align: top;\n",
       "    }\n",
       "\n",
       "    .dataframe thead th {\n",
       "        text-align: right;\n",
       "    }\n",
       "</style>\n",
       "<table border=\"1\" class=\"dataframe\">\n",
       "  <thead>\n",
       "    <tr style=\"text-align: right;\">\n",
       "      <th></th>\n",
       "      <th>Date</th>\n",
       "      <th>High</th>\n",
       "      <th>Low</th>\n",
       "      <th>Open</th>\n",
       "      <th>Close</th>\n",
       "      <th>Volume</th>\n",
       "      <th>Adj Close</th>\n",
       "    </tr>\n",
       "  </thead>\n",
       "  <tbody>\n",
       "    <tr>\n",
       "      <th>0</th>\n",
       "      <td>2005-09-27</td>\n",
       "      <td>21.400000</td>\n",
       "      <td>19.100000</td>\n",
       "      <td>21.049999</td>\n",
       "      <td>19.299999</td>\n",
       "      <td>961200.0</td>\n",
       "      <td>18.194906</td>\n",
       "    </tr>\n",
       "    <tr>\n",
       "      <th>1</th>\n",
       "      <td>2005-09-28</td>\n",
       "      <td>20.530001</td>\n",
       "      <td>19.200001</td>\n",
       "      <td>19.299999</td>\n",
       "      <td>20.500000</td>\n",
       "      <td>5747900.0</td>\n",
       "      <td>19.326199</td>\n",
       "    </tr>\n",
       "    <tr>\n",
       "      <th>2</th>\n",
       "      <td>2005-09-29</td>\n",
       "      <td>20.580000</td>\n",
       "      <td>20.100000</td>\n",
       "      <td>20.400000</td>\n",
       "      <td>20.209999</td>\n",
       "      <td>1078200.0</td>\n",
       "      <td>19.052805</td>\n",
       "    </tr>\n",
       "    <tr>\n",
       "      <th>3</th>\n",
       "      <td>2005-09-30</td>\n",
       "      <td>21.049999</td>\n",
       "      <td>20.180000</td>\n",
       "      <td>20.260000</td>\n",
       "      <td>21.010000</td>\n",
       "      <td>3123300.0</td>\n",
       "      <td>19.806997</td>\n",
       "    </tr>\n",
       "    <tr>\n",
       "      <th>4</th>\n",
       "      <td>2005-10-03</td>\n",
       "      <td>21.750000</td>\n",
       "      <td>20.900000</td>\n",
       "      <td>20.900000</td>\n",
       "      <td>21.500000</td>\n",
       "      <td>1057900.0</td>\n",
       "      <td>20.268944</td>\n",
       "    </tr>\n",
       "    <tr>\n",
       "      <th>...</th>\n",
       "      <td>...</td>\n",
       "      <td>...</td>\n",
       "      <td>...</td>\n",
       "      <td>...</td>\n",
       "      <td>...</td>\n",
       "      <td>...</td>\n",
       "      <td>...</td>\n",
       "    </tr>\n",
       "    <tr>\n",
       "      <th>4035</th>\n",
       "      <td>2021-10-07</td>\n",
       "      <td>20.900000</td>\n",
       "      <td>20.080000</td>\n",
       "      <td>20.840000</td>\n",
       "      <td>20.170000</td>\n",
       "      <td>29167200.0</td>\n",
       "      <td>20.170000</td>\n",
       "    </tr>\n",
       "    <tr>\n",
       "      <th>4036</th>\n",
       "      <td>2021-10-08</td>\n",
       "      <td>20.290001</td>\n",
       "      <td>19.879999</td>\n",
       "      <td>20.240000</td>\n",
       "      <td>20.070000</td>\n",
       "      <td>21634900.0</td>\n",
       "      <td>20.070000</td>\n",
       "    </tr>\n",
       "    <tr>\n",
       "      <th>4037</th>\n",
       "      <td>2021-10-11</td>\n",
       "      <td>20.510000</td>\n",
       "      <td>19.850000</td>\n",
       "      <td>19.980000</td>\n",
       "      <td>20.129999</td>\n",
       "      <td>23646800.0</td>\n",
       "      <td>20.129999</td>\n",
       "    </tr>\n",
       "    <tr>\n",
       "      <th>4038</th>\n",
       "      <td>2021-10-12</td>\n",
       "      <td>20.400000</td>\n",
       "      <td>20.030001</td>\n",
       "      <td>20.200001</td>\n",
       "      <td>20.290001</td>\n",
       "      <td>18448400.0</td>\n",
       "      <td>20.290001</td>\n",
       "    </tr>\n",
       "    <tr>\n",
       "      <th>4039</th>\n",
       "      <td>2021-10-13</td>\n",
       "      <td>20.250000</td>\n",
       "      <td>19.530001</td>\n",
       "      <td>20.250000</td>\n",
       "      <td>19.610001</td>\n",
       "      <td>33178500.0</td>\n",
       "      <td>19.610001</td>\n",
       "    </tr>\n",
       "  </tbody>\n",
       "</table>\n",
       "<p>4040 rows × 7 columns</p>\n",
       "</div>"
      ],
      "text/plain": [
       "           Date       High        Low       Open      Close      Volume  \\\n",
       "0    2005-09-27  21.400000  19.100000  21.049999  19.299999    961200.0   \n",
       "1    2005-09-28  20.530001  19.200001  19.299999  20.500000   5747900.0   \n",
       "2    2005-09-29  20.580000  20.100000  20.400000  20.209999   1078200.0   \n",
       "3    2005-09-30  21.049999  20.180000  20.260000  21.010000   3123300.0   \n",
       "4    2005-10-03  21.750000  20.900000  20.900000  21.500000   1057900.0   \n",
       "...         ...        ...        ...        ...        ...         ...   \n",
       "4035 2021-10-07  20.900000  20.080000  20.840000  20.170000  29167200.0   \n",
       "4036 2021-10-08  20.290001  19.879999  20.240000  20.070000  21634900.0   \n",
       "4037 2021-10-11  20.510000  19.850000  19.980000  20.129999  23646800.0   \n",
       "4038 2021-10-12  20.400000  20.030001  20.200001  20.290001  18448400.0   \n",
       "4039 2021-10-13  20.250000  19.530001  20.250000  19.610001  33178500.0   \n",
       "\n",
       "      Adj Close  \n",
       "0     18.194906  \n",
       "1     19.326199  \n",
       "2     19.052805  \n",
       "3     19.806997  \n",
       "4     20.268944  \n",
       "...         ...  \n",
       "4035  20.170000  \n",
       "4036  20.070000  \n",
       "4037  20.129999  \n",
       "4038  20.290001  \n",
       "4039  19.610001  \n",
       "\n",
       "[4040 rows x 7 columns]"
      ]
     },
     "execution_count": 98,
     "metadata": {},
     "output_type": "execute_result"
    }
   ],
   "source": [
    "# Reseting the index\n",
    "data = data.reset_index()\n",
    "data"
   ]
  },
  {
   "cell_type": "code",
   "execution_count": 99,
   "id": "9084aa5a",
   "metadata": {
    "collapsed": true
   },
   "outputs": [
    {
     "data": {
      "text/plain": [
       "0       18.194906\n",
       "1       19.326199\n",
       "2       19.052805\n",
       "3       19.806997\n",
       "4       20.268944\n",
       "          ...    \n",
       "4035    20.170000\n",
       "4036    20.070000\n",
       "4037    20.129999\n",
       "4038    20.290001\n",
       "4039    19.610001\n",
       "Name: Adj Close, Length: 4040, dtype: float64"
      ]
     },
     "execution_count": 99,
     "metadata": {},
     "output_type": "execute_result"
    }
   ],
   "source": [
    "# Target value considered in a vector\n",
    "y = data['Adj Close']\n",
    "y"
   ]
  },
  {
   "cell_type": "code",
   "execution_count": 100,
   "id": "080e35a7",
   "metadata": {
    "collapsed": true
   },
   "outputs": [
    {
     "data": {
      "text/html": [
       "<div>\n",
       "<style scoped>\n",
       "    .dataframe tbody tr th:only-of-type {\n",
       "        vertical-align: middle;\n",
       "    }\n",
       "\n",
       "    .dataframe tbody tr th {\n",
       "        vertical-align: top;\n",
       "    }\n",
       "\n",
       "    .dataframe thead th {\n",
       "        text-align: right;\n",
       "    }\n",
       "</style>\n",
       "<table border=\"1\" class=\"dataframe\">\n",
       "  <thead>\n",
       "    <tr style=\"text-align: right;\">\n",
       "      <th></th>\n",
       "      <th>High</th>\n",
       "      <th>Low</th>\n",
       "      <th>Open</th>\n",
       "      <th>Close</th>\n",
       "      <th>Volume</th>\n",
       "    </tr>\n",
       "  </thead>\n",
       "  <tbody>\n",
       "    <tr>\n",
       "      <th>0</th>\n",
       "      <td>21.400000</td>\n",
       "      <td>19.100000</td>\n",
       "      <td>21.049999</td>\n",
       "      <td>19.299999</td>\n",
       "      <td>961200.0</td>\n",
       "    </tr>\n",
       "    <tr>\n",
       "      <th>1</th>\n",
       "      <td>20.530001</td>\n",
       "      <td>19.200001</td>\n",
       "      <td>19.299999</td>\n",
       "      <td>20.500000</td>\n",
       "      <td>5747900.0</td>\n",
       "    </tr>\n",
       "    <tr>\n",
       "      <th>2</th>\n",
       "      <td>20.580000</td>\n",
       "      <td>20.100000</td>\n",
       "      <td>20.400000</td>\n",
       "      <td>20.209999</td>\n",
       "      <td>1078200.0</td>\n",
       "    </tr>\n",
       "    <tr>\n",
       "      <th>3</th>\n",
       "      <td>21.049999</td>\n",
       "      <td>20.180000</td>\n",
       "      <td>20.260000</td>\n",
       "      <td>21.010000</td>\n",
       "      <td>3123300.0</td>\n",
       "    </tr>\n",
       "    <tr>\n",
       "      <th>4</th>\n",
       "      <td>21.750000</td>\n",
       "      <td>20.900000</td>\n",
       "      <td>20.900000</td>\n",
       "      <td>21.500000</td>\n",
       "      <td>1057900.0</td>\n",
       "    </tr>\n",
       "    <tr>\n",
       "      <th>...</th>\n",
       "      <td>...</td>\n",
       "      <td>...</td>\n",
       "      <td>...</td>\n",
       "      <td>...</td>\n",
       "      <td>...</td>\n",
       "    </tr>\n",
       "    <tr>\n",
       "      <th>4035</th>\n",
       "      <td>20.900000</td>\n",
       "      <td>20.080000</td>\n",
       "      <td>20.840000</td>\n",
       "      <td>20.170000</td>\n",
       "      <td>29167200.0</td>\n",
       "    </tr>\n",
       "    <tr>\n",
       "      <th>4036</th>\n",
       "      <td>20.290001</td>\n",
       "      <td>19.879999</td>\n",
       "      <td>20.240000</td>\n",
       "      <td>20.070000</td>\n",
       "      <td>21634900.0</td>\n",
       "    </tr>\n",
       "    <tr>\n",
       "      <th>4037</th>\n",
       "      <td>20.510000</td>\n",
       "      <td>19.850000</td>\n",
       "      <td>19.980000</td>\n",
       "      <td>20.129999</td>\n",
       "      <td>23646800.0</td>\n",
       "    </tr>\n",
       "    <tr>\n",
       "      <th>4038</th>\n",
       "      <td>20.400000</td>\n",
       "      <td>20.030001</td>\n",
       "      <td>20.200001</td>\n",
       "      <td>20.290001</td>\n",
       "      <td>18448400.0</td>\n",
       "    </tr>\n",
       "    <tr>\n",
       "      <th>4039</th>\n",
       "      <td>20.250000</td>\n",
       "      <td>19.530001</td>\n",
       "      <td>20.250000</td>\n",
       "      <td>19.610001</td>\n",
       "      <td>33178500.0</td>\n",
       "    </tr>\n",
       "  </tbody>\n",
       "</table>\n",
       "<p>4040 rows × 5 columns</p>\n",
       "</div>"
      ],
      "text/plain": [
       "           High        Low       Open      Close      Volume\n",
       "0     21.400000  19.100000  21.049999  19.299999    961200.0\n",
       "1     20.530001  19.200001  19.299999  20.500000   5747900.0\n",
       "2     20.580000  20.100000  20.400000  20.209999   1078200.0\n",
       "3     21.049999  20.180000  20.260000  21.010000   3123300.0\n",
       "4     21.750000  20.900000  20.900000  21.500000   1057900.0\n",
       "...         ...        ...        ...        ...         ...\n",
       "4035  20.900000  20.080000  20.840000  20.170000  29167200.0\n",
       "4036  20.290001  19.879999  20.240000  20.070000  21634900.0\n",
       "4037  20.510000  19.850000  19.980000  20.129999  23646800.0\n",
       "4038  20.400000  20.030001  20.200001  20.290001  18448400.0\n",
       "4039  20.250000  19.530001  20.250000  19.610001  33178500.0\n",
       "\n",
       "[4040 rows x 5 columns]"
      ]
     },
     "execution_count": 100,
     "metadata": {},
     "output_type": "execute_result"
    }
   ],
   "source": [
    "# Droping the columns from the predictor variables\n",
    "X = data.drop(columns = ['Adj Close','Date'])\n",
    "X"
   ]
  },
  {
   "cell_type": "code",
   "execution_count": 101,
   "id": "4fc0ec90",
   "metadata": {
    "collapsed": true
   },
   "outputs": [
    {
     "data": {
      "text/plain": [
       "(           High        Low       Open      Close      Volume\n",
       " 0     21.400000  19.100000  21.049999  19.299999    961200.0\n",
       " 1     20.530001  19.200001  19.299999  20.500000   5747900.0\n",
       " 2     20.580000  20.100000  20.400000  20.209999   1078200.0\n",
       " 3     21.049999  20.180000  20.260000  21.010000   3123300.0\n",
       " 4     21.750000  20.900000  20.900000  21.500000   1057900.0\n",
       " ...         ...        ...        ...        ...         ...\n",
       " 3935  23.400000  22.100000  22.320000  23.350000  40716100.0\n",
       " 3936  23.940001  23.080000  23.540001  23.559999  38662400.0\n",
       " 3937  23.270000  22.620001  22.969999  22.969999  34558200.0\n",
       " 3938  23.180000  22.290001  23.180000  22.600000  33606500.0\n",
       " 3939  23.040001  22.510000  22.709999  22.570000  26246500.0\n",
       " \n",
       " [3940 rows x 5 columns],\n",
       " 0       30.639103\n",
       " 1       31.713821\n",
       " 2       32.666000\n",
       " 3       31.600689\n",
       " 4       31.440434\n",
       "           ...    \n",
       " 3935    20.170000\n",
       " 3936    20.070000\n",
       " 3937    20.129999\n",
       " 3938    20.290001\n",
       " 3939    19.610001\n",
       " Name: Adj Close, Length: 3940, dtype: float64)"
      ]
     },
     "execution_count": 101,
     "metadata": {},
     "output_type": "execute_result"
    }
   ],
   "source": [
    "# Conisdering for the 100 days\n",
    "X = X.iloc[0:-100]\n",
    "y = y.shift(-100).dropna()\n",
    "X,y"
   ]
  },
  {
   "cell_type": "code",
   "execution_count": 102,
   "id": "07cccf3d",
   "metadata": {},
   "outputs": [],
   "source": [
    "# Splitting the data in training and test data for modeling and predicting\n",
    "X_train, X_test, y_train, y_test = train_test_split(X, y, random_state=42)"
   ]
  },
  {
   "cell_type": "code",
   "execution_count": 103,
   "id": "eaa6e2d7",
   "metadata": {},
   "outputs": [
    {
     "data": {
      "text/plain": [
       "RandomForestRegressor()"
      ]
     },
     "execution_count": 103,
     "metadata": {},
     "output_type": "execute_result"
    }
   ],
   "source": [
    "# Create a model \n",
    "rf_model = RandomForestRegressor()\n",
    "\n",
    "# Train the model\n",
    "rf_model.fit(X_train, y_train)"
   ]
  },
  {
   "cell_type": "code",
   "execution_count": 104,
   "id": "85d57761",
   "metadata": {},
   "outputs": [
    {
     "data": {
      "text/plain": [
       "0.8552962151752854"
      ]
     },
     "execution_count": 104,
     "metadata": {},
     "output_type": "execute_result"
    }
   ],
   "source": [
    "# Get R2 measure (indicator of accuracy 1 is perfect, 0 is bad)\n",
    "rf_model.score(X_test, y_test)"
   ]
  },
  {
   "cell_type": "code",
   "execution_count": 105,
   "id": "ff31a78c",
   "metadata": {},
   "outputs": [],
   "source": [
    "y_pred = rf_model.predict(X_test)\n",
    "y_pred = list(y_pred)"
   ]
  },
  {
   "cell_type": "code",
   "execution_count": 106,
   "id": "1345d80b",
   "metadata": {},
   "outputs": [
    {
     "data": {
      "text/plain": [
       "5.951949331319347"
      ]
     },
     "execution_count": 106,
     "metadata": {},
     "output_type": "execute_result"
    }
   ],
   "source": [
    "# Root Mean Square Error (RMSE) is a standard way to measure the error of a model in predicting quantitative data.\n",
    "mse = sklearn.metrics.mean_squared_error(y_test, y_pred)\n",
    "\n",
    "rmse = math.sqrt(mse)\n",
    "rmse"
   ]
  },
  {
   "cell_type": "markdown",
   "id": "7dd3cd32",
   "metadata": {},
   "source": [
    "#### Conclusion :\n",
    "For the stock AAL, same steps were followed as for Nokia. But here we can see that R2 value is 0.85 and RMSE increased to 5.95."
   ]
  },
  {
   "cell_type": "markdown",
   "id": "d0299866",
   "metadata": {},
   "source": [
    "# Stock prediction for FedEx"
   ]
  },
  {
   "cell_type": "code",
   "execution_count": 116,
   "id": "c37f3ac1",
   "metadata": {},
   "outputs": [],
   "source": [
    "# Reading the \"AAL\" stock data from webreader\n",
    "\n",
    "data = web.DataReader('FDX', 'yahoo', start=\"2000-01-01\", end=\"2021-10-13\")\n",
    "data.to_csv(\"D:/DSMT Assignments/Assignment4/FDX.xlsx\")"
   ]
  },
  {
   "cell_type": "code",
   "execution_count": 117,
   "id": "3b64b7b9",
   "metadata": {},
   "outputs": [
    {
     "data": {
      "text/plain": [
       "Text(0.5, 1.0, 'FDX Stock price')"
      ]
     },
     "execution_count": 117,
     "metadata": {},
     "output_type": "execute_result"
    },
    {
     "data": {
      "image/png": "[encoded data removed]",
      "text/plain": [
       "<Figure size 432x288 with 1 Axes>"
      ]
     },
     "metadata": {
      "needs_background": "light"
     },
     "output_type": "display_data"
    }
   ],
   "source": [
    "# Plotting the data and reading the performance as how it has performed in last years\n",
    "plt.plot(data['Adj Close'])\n",
    "plt.ylabel(\"Adjusted Closed Price\")\n",
    "plt.title(\"FDX Stock price\")"
   ]
  },
  {
   "cell_type": "code",
   "execution_count": 118,
   "id": "07f400e7",
   "metadata": {
    "collapsed": true
   },
   "outputs": [
    {
     "data": {
      "text/html": [
       "<div>\n",
       "<style scoped>\n",
       "    .dataframe tbody tr th:only-of-type {\n",
       "        vertical-align: middle;\n",
       "    }\n",
       "\n",
       "    .dataframe tbody tr th {\n",
       "        vertical-align: top;\n",
       "    }\n",
       "\n",
       "    .dataframe thead th {\n",
       "        text-align: right;\n",
       "    }\n",
       "</style>\n",
       "<table border=\"1\" class=\"dataframe\">\n",
       "  <thead>\n",
       "    <tr style=\"text-align: right;\">\n",
       "      <th></th>\n",
       "      <th>Date</th>\n",
       "      <th>High</th>\n",
       "      <th>Low</th>\n",
       "      <th>Open</th>\n",
       "      <th>Close</th>\n",
       "      <th>Volume</th>\n",
       "      <th>Adj Close</th>\n",
       "    </tr>\n",
       "  </thead>\n",
       "  <tbody>\n",
       "    <tr>\n",
       "      <th>0</th>\n",
       "      <td>2000-01-03</td>\n",
       "      <td>43.625000</td>\n",
       "      <td>41.000000</td>\n",
       "      <td>42.375000</td>\n",
       "      <td>42.937500</td>\n",
       "      <td>1734000.0</td>\n",
       "      <td>37.550232</td>\n",
       "    </tr>\n",
       "    <tr>\n",
       "      <th>1</th>\n",
       "      <td>2000-01-04</td>\n",
       "      <td>43.187500</td>\n",
       "      <td>41.000000</td>\n",
       "      <td>42.500000</td>\n",
       "      <td>41.500000</td>\n",
       "      <td>1571900.0</td>\n",
       "      <td>36.293102</td>\n",
       "    </tr>\n",
       "    <tr>\n",
       "      <th>2</th>\n",
       "      <td>2000-01-05</td>\n",
       "      <td>43.250000</td>\n",
       "      <td>41.375000</td>\n",
       "      <td>41.875000</td>\n",
       "      <td>42.437500</td>\n",
       "      <td>2239400.0</td>\n",
       "      <td>37.112968</td>\n",
       "    </tr>\n",
       "    <tr>\n",
       "      <th>3</th>\n",
       "      <td>2000-01-06</td>\n",
       "      <td>47.312500</td>\n",
       "      <td>42.437500</td>\n",
       "      <td>42.500000</td>\n",
       "      <td>47.250000</td>\n",
       "      <td>4630500.0</td>\n",
       "      <td>41.321655</td>\n",
       "    </tr>\n",
       "    <tr>\n",
       "      <th>4</th>\n",
       "      <td>2000-01-07</td>\n",
       "      <td>47.500000</td>\n",
       "      <td>44.250000</td>\n",
       "      <td>47.250000</td>\n",
       "      <td>47.500000</td>\n",
       "      <td>3532800.0</td>\n",
       "      <td>41.540291</td>\n",
       "    </tr>\n",
       "    <tr>\n",
       "      <th>...</th>\n",
       "      <td>...</td>\n",
       "      <td>...</td>\n",
       "      <td>...</td>\n",
       "      <td>...</td>\n",
       "      <td>...</td>\n",
       "      <td>...</td>\n",
       "      <td>...</td>\n",
       "    </tr>\n",
       "    <tr>\n",
       "      <th>5476</th>\n",
       "      <td>2021-10-07</td>\n",
       "      <td>227.660004</td>\n",
       "      <td>222.479996</td>\n",
       "      <td>227.000000</td>\n",
       "      <td>222.949997</td>\n",
       "      <td>3954100.0</td>\n",
       "      <td>222.949997</td>\n",
       "    </tr>\n",
       "    <tr>\n",
       "      <th>5477</th>\n",
       "      <td>2021-10-08</td>\n",
       "      <td>223.940002</td>\n",
       "      <td>221.419998</td>\n",
       "      <td>222.399994</td>\n",
       "      <td>223.440002</td>\n",
       "      <td>2364600.0</td>\n",
       "      <td>223.440002</td>\n",
       "    </tr>\n",
       "    <tr>\n",
       "      <th>5478</th>\n",
       "      <td>2021-10-11</td>\n",
       "      <td>224.580002</td>\n",
       "      <td>219.360001</td>\n",
       "      <td>224.029999</td>\n",
       "      <td>219.820007</td>\n",
       "      <td>2884700.0</td>\n",
       "      <td>219.820007</td>\n",
       "    </tr>\n",
       "    <tr>\n",
       "      <th>5479</th>\n",
       "      <td>2021-10-12</td>\n",
       "      <td>222.080002</td>\n",
       "      <td>219.679993</td>\n",
       "      <td>219.820007</td>\n",
       "      <td>221.320007</td>\n",
       "      <td>2541500.0</td>\n",
       "      <td>221.320007</td>\n",
       "    </tr>\n",
       "    <tr>\n",
       "      <th>5480</th>\n",
       "      <td>2021-10-13</td>\n",
       "      <td>225.429993</td>\n",
       "      <td>219.509995</td>\n",
       "      <td>222.020004</td>\n",
       "      <td>223.729996</td>\n",
       "      <td>4595300.0</td>\n",
       "      <td>223.729996</td>\n",
       "    </tr>\n",
       "  </tbody>\n",
       "</table>\n",
       "<p>5481 rows × 7 columns</p>\n",
       "</div>"
      ],
      "text/plain": [
       "           Date        High         Low        Open       Close     Volume  \\\n",
       "0    2000-01-03   43.625000   41.000000   42.375000   42.937500  1734000.0   \n",
       "1    2000-01-04   43.187500   41.000000   42.500000   41.500000  1571900.0   \n",
       "2    2000-01-05   43.250000   41.375000   41.875000   42.437500  2239400.0   \n",
       "3    2000-01-06   47.312500   42.437500   42.500000   47.250000  4630500.0   \n",
       "4    2000-01-07   47.500000   44.250000   47.250000   47.500000  3532800.0   \n",
       "...         ...         ...         ...         ...         ...        ...   \n",
       "5476 2021-10-07  227.660004  222.479996  227.000000  222.949997  3954100.0   \n",
       "5477 2021-10-08  223.940002  221.419998  222.399994  223.440002  2364600.0   \n",
       "5478 2021-10-11  224.580002  219.360001  224.029999  219.820007  2884700.0   \n",
       "5479 2021-10-12  222.080002  219.679993  219.820007  221.320007  2541500.0   \n",
       "5480 2021-10-13  225.429993  219.509995  222.020004  223.729996  4595300.0   \n",
       "\n",
       "       Adj Close  \n",
       "0      37.550232  \n",
       "1      36.293102  \n",
       "2      37.112968  \n",
       "3      41.321655  \n",
       "4      41.540291  \n",
       "...          ...  \n",
       "5476  222.949997  \n",
       "5477  223.440002  \n",
       "5478  219.820007  \n",
       "5479  221.320007  \n",
       "5480  223.729996  \n",
       "\n",
       "[5481 rows x 7 columns]"
      ]
     },
     "execution_count": 118,
     "metadata": {},
     "output_type": "execute_result"
    }
   ],
   "source": [
    "# Reseting the index\n",
    "data = data.reset_index()\n",
    "data"
   ]
  },
  {
   "cell_type": "code",
   "execution_count": 119,
   "id": "0d0070d8",
   "metadata": {
    "collapsed": true
   },
   "outputs": [
    {
     "data": {
      "text/plain": [
       "0        37.550232\n",
       "1        36.293102\n",
       "2        37.112968\n",
       "3        41.321655\n",
       "4        41.540291\n",
       "           ...    \n",
       "5476    222.949997\n",
       "5477    223.440002\n",
       "5478    219.820007\n",
       "5479    221.320007\n",
       "5480    223.729996\n",
       "Name: Adj Close, Length: 5481, dtype: float64"
      ]
     },
     "execution_count": 119,
     "metadata": {},
     "output_type": "execute_result"
    }
   ],
   "source": [
    "# Target value considered in a vector\n",
    "y = data['Adj Close']\n",
    "y"
   ]
  },
  {
   "cell_type": "code",
   "execution_count": 120,
   "id": "32fc646e",
   "metadata": {
    "collapsed": true
   },
   "outputs": [
    {
     "data": {
      "text/html": [
       "<div>\n",
       "<style scoped>\n",
       "    .dataframe tbody tr th:only-of-type {\n",
       "        vertical-align: middle;\n",
       "    }\n",
       "\n",
       "    .dataframe tbody tr th {\n",
       "        vertical-align: top;\n",
       "    }\n",
       "\n",
       "    .dataframe thead th {\n",
       "        text-align: right;\n",
       "    }\n",
       "</style>\n",
       "<table border=\"1\" class=\"dataframe\">\n",
       "  <thead>\n",
       "    <tr style=\"text-align: right;\">\n",
       "      <th></th>\n",
       "      <th>High</th>\n",
       "      <th>Low</th>\n",
       "      <th>Open</th>\n",
       "      <th>Close</th>\n",
       "      <th>Volume</th>\n",
       "    </tr>\n",
       "  </thead>\n",
       "  <tbody>\n",
       "    <tr>\n",
       "      <th>0</th>\n",
       "      <td>43.625000</td>\n",
       "      <td>41.000000</td>\n",
       "      <td>42.375000</td>\n",
       "      <td>42.937500</td>\n",
       "      <td>1734000.0</td>\n",
       "    </tr>\n",
       "    <tr>\n",
       "      <th>1</th>\n",
       "      <td>43.187500</td>\n",
       "      <td>41.000000</td>\n",
       "      <td>42.500000</td>\n",
       "      <td>41.500000</td>\n",
       "      <td>1571900.0</td>\n",
       "    </tr>\n",
       "    <tr>\n",
       "      <th>2</th>\n",
       "      <td>43.250000</td>\n",
       "      <td>41.375000</td>\n",
       "      <td>41.875000</td>\n",
       "      <td>42.437500</td>\n",
       "      <td>2239400.0</td>\n",
       "    </tr>\n",
       "    <tr>\n",
       "      <th>3</th>\n",
       "      <td>47.312500</td>\n",
       "      <td>42.437500</td>\n",
       "      <td>42.500000</td>\n",
       "      <td>47.250000</td>\n",
       "      <td>4630500.0</td>\n",
       "    </tr>\n",
       "    <tr>\n",
       "      <th>4</th>\n",
       "      <td>47.500000</td>\n",
       "      <td>44.250000</td>\n",
       "      <td>47.250000</td>\n",
       "      <td>47.500000</td>\n",
       "      <td>3532800.0</td>\n",
       "    </tr>\n",
       "    <tr>\n",
       "      <th>...</th>\n",
       "      <td>...</td>\n",
       "      <td>...</td>\n",
       "      <td>...</td>\n",
       "      <td>...</td>\n",
       "      <td>...</td>\n",
       "    </tr>\n",
       "    <tr>\n",
       "      <th>5476</th>\n",
       "      <td>227.660004</td>\n",
       "      <td>222.479996</td>\n",
       "      <td>227.000000</td>\n",
       "      <td>222.949997</td>\n",
       "      <td>3954100.0</td>\n",
       "    </tr>\n",
       "    <tr>\n",
       "      <th>5477</th>\n",
       "      <td>223.940002</td>\n",
       "      <td>221.419998</td>\n",
       "      <td>222.399994</td>\n",
       "      <td>223.440002</td>\n",
       "      <td>2364600.0</td>\n",
       "    </tr>\n",
       "    <tr>\n",
       "      <th>5478</th>\n",
       "      <td>224.580002</td>\n",
       "      <td>219.360001</td>\n",
       "      <td>224.029999</td>\n",
       "      <td>219.820007</td>\n",
       "      <td>2884700.0</td>\n",
       "    </tr>\n",
       "    <tr>\n",
       "      <th>5479</th>\n",
       "      <td>222.080002</td>\n",
       "      <td>219.679993</td>\n",
       "      <td>219.820007</td>\n",
       "      <td>221.320007</td>\n",
       "      <td>2541500.0</td>\n",
       "    </tr>\n",
       "    <tr>\n",
       "      <th>5480</th>\n",
       "      <td>225.429993</td>\n",
       "      <td>219.509995</td>\n",
       "      <td>222.020004</td>\n",
       "      <td>223.729996</td>\n",
       "      <td>4595300.0</td>\n",
       "    </tr>\n",
       "  </tbody>\n",
       "</table>\n",
       "<p>5481 rows × 5 columns</p>\n",
       "</div>"
      ],
      "text/plain": [
       "            High         Low        Open       Close     Volume\n",
       "0      43.625000   41.000000   42.375000   42.937500  1734000.0\n",
       "1      43.187500   41.000000   42.500000   41.500000  1571900.0\n",
       "2      43.250000   41.375000   41.875000   42.437500  2239400.0\n",
       "3      47.312500   42.437500   42.500000   47.250000  4630500.0\n",
       "4      47.500000   44.250000   47.250000   47.500000  3532800.0\n",
       "...          ...         ...         ...         ...        ...\n",
       "5476  227.660004  222.479996  227.000000  222.949997  3954100.0\n",
       "5477  223.940002  221.419998  222.399994  223.440002  2364600.0\n",
       "5478  224.580002  219.360001  224.029999  219.820007  2884700.0\n",
       "5479  222.080002  219.679993  219.820007  221.320007  2541500.0\n",
       "5480  225.429993  219.509995  222.020004  223.729996  4595300.0\n",
       "\n",
       "[5481 rows x 5 columns]"
      ]
     },
     "execution_count": 120,
     "metadata": {},
     "output_type": "execute_result"
    }
   ],
   "source": [
    "# Droping the columns from the predictor variables\n",
    "X = data.drop(columns = ['Adj Close','Date'])\n",
    "X"
   ]
  },
  {
   "cell_type": "code",
   "execution_count": 121,
   "id": "6f0bd5ae",
   "metadata": {
    "collapsed": true
   },
   "outputs": [
    {
     "data": {
      "text/plain": [
       "(            High         Low        Open       Close     Volume\n",
       " 0      43.625000   41.000000   42.375000   42.937500  1734000.0\n",
       " 1      43.187500   41.000000   42.500000   41.500000  1571900.0\n",
       " 2      43.250000   41.375000   41.875000   42.437500  2239400.0\n",
       " 3      47.312500   42.437500   42.500000   47.250000  4630500.0\n",
       " 4      47.500000   44.250000   47.250000   47.500000  3532800.0\n",
       " ...          ...         ...         ...         ...        ...\n",
       " 5376  311.559998  306.679993  310.000000  309.260010   940700.0\n",
       " 5377  310.279999  306.049988  309.690002  306.049988  1046100.0\n",
       " 5378  308.429993  299.910004  304.000000  307.929993  1734700.0\n",
       " 5379  311.950012  306.760010  309.140015  309.049988  1278100.0\n",
       " 5380  315.290009  309.390015  310.429993  309.600006  1753600.0\n",
       " \n",
       " [5381 rows x 5 columns],\n",
       " 0        30.772602\n",
       " 1        29.570133\n",
       " 2        31.045895\n",
       " 3        31.045895\n",
       " 4        31.209867\n",
       "            ...    \n",
       " 5376    222.949997\n",
       " 5377    223.440002\n",
       " 5378    219.820007\n",
       " 5379    221.320007\n",
       " 5380    223.729996\n",
       " Name: Adj Close, Length: 5381, dtype: float64)"
      ]
     },
     "execution_count": 121,
     "metadata": {},
     "output_type": "execute_result"
    }
   ],
   "source": [
    "# Conisdering for the 100 days\n",
    "X = X.iloc[0:-100]\n",
    "y = y.shift(-100).dropna()\n",
    "X,y"
   ]
  },
  {
   "cell_type": "code",
   "execution_count": 122,
   "id": "ad3cb6ec",
   "metadata": {},
   "outputs": [],
   "source": [
    "# Splitting the data in training and test data for modeling and predicting\n",
    "X_train, X_test, y_train, y_test = train_test_split(X, y, random_state=42)"
   ]
  },
  {
   "cell_type": "code",
   "execution_count": 123,
   "id": "a6072a90",
   "metadata": {},
   "outputs": [
    {
     "data": {
      "text/plain": [
       "RandomForestRegressor()"
      ]
     },
     "execution_count": 123,
     "metadata": {},
     "output_type": "execute_result"
    }
   ],
   "source": [
    "# Create a model \n",
    "rf_model = RandomForestRegressor()\n",
    "\n",
    "# Train the model\n",
    "rf_model.fit(X_train, y_train)"
   ]
  },
  {
   "cell_type": "code",
   "execution_count": 124,
   "id": "e6ca603b",
   "metadata": {},
   "outputs": [
    {
     "data": {
      "text/plain": [
       "0.889288639497829"
      ]
     },
     "execution_count": 124,
     "metadata": {},
     "output_type": "execute_result"
    }
   ],
   "source": [
    "# Get R2 measure (indicator of accuracy 1 is perfect, 0 is bad)\n",
    "rf_model.score(X_test, y_test)"
   ]
  },
  {
   "cell_type": "code",
   "execution_count": 125,
   "id": "b1c12303",
   "metadata": {},
   "outputs": [],
   "source": [
    "y_pred = rf_model.predict(X_test)\n",
    "y_pred = list(y_pred)"
   ]
  },
  {
   "cell_type": "code",
   "execution_count": 126,
   "id": "2ebe50f1",
   "metadata": {},
   "outputs": [
    {
     "data": {
      "text/plain": [
       "22.10230069632753"
      ]
     },
     "execution_count": 126,
     "metadata": {},
     "output_type": "execute_result"
    }
   ],
   "source": [
    "# Root Mean Square Error (RMSE) is a standard way to measure the error of a model in predicting quantitative data.\n",
    "mse = sklearn.metrics.mean_squared_error(y_test, y_pred)\n",
    "\n",
    "rmse = math.sqrt(mse)\n",
    "rmse"
   ]
  },
  {
   "cell_type": "markdown",
   "id": "ce5d776b",
   "metadata": {},
   "source": [
    "# Conclusion\n",
    "We trained the model for 3 different stocks and accuracy and RMSE value varied differently. Definitely RandomForest Regressor is a good way to predict many targets, but considering time series, In my perspective and research I found LSTM (Long Short Term memory) to be more efficient and accurate."
   ]
  }
 ],
 "metadata": {
  "kernelspec": {
   "display_name": "Python 3 (ipykernel)",
   "language": "python",
   "name": "python3"
  },
  "language_info": {
   "codemirror_mode": {
    "name": "ipython",
    "version": 3
   },
   "file_extension": ".py",
   "mimetype": "text/x-python",
   "name": "python",
   "nbconvert_exporter": "python",
   "pygments_lexer": "ipython3",
   "version": "3.9.7"
  }
 },
 "nbformat": 4,
 "nbformat_minor": 5
}
